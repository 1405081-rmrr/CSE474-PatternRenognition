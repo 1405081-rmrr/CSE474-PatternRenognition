{
 "cells": [
  {
   "cell_type": "code",
   "execution_count": 6,
   "id": "b1b62eba",
   "metadata": {},
   "outputs": [
    {
     "name": "stdout",
     "output_type": "stream",
     "text": [
      "[[1.         0.750072   0.97740794 0.88565752]\n",
      " [1.         0.87791369 0.01925101 0.50671112]\n",
      " [1.         0.7773246  0.99406596 0.82224385]\n",
      " ...\n",
      " [1.         0.5155064  0.15354364 0.01275495]\n",
      " [1.         0.2282263  0.97155357 0.18305906]\n",
      " [1.         0.36391513 0.49207061 0.71952659]]\n",
      "[ 1. -1.  1. ...  1.  1.  1.]\n",
      "Iteration 1, Misclassifications 995\n",
      "Iteration 2, Misclassifications 986\n",
      "Iteration 6, Misclassifications 981\n",
      "Iteration 9, Misclassifications 976\n",
      "Iteration 10, Misclassifications 975\n",
      "Minimum Misclassifications :  975\n",
      "Best Case Accuracy of Pocket Learning Algorithm is:  51.24999999999999 %\n"
     ]
    }
   ],
   "source": [
    "import numpy as np\n",
    "import matplotlib.pyplot as plt\n",
    "np.random.seed(1)\n",
    "data = np.genfromtxt(\"classification.txt\", delimiter=\",\")\n",
    "learningRate = 0.01\n",
    "data = np.delete(data, [3], axis=1)  # deletinig the 4th column\n",
    "Y = data[:, -1]\n",
    "X_train = np.delete(data, [3], axis=1)\n",
    "oneVector = np.ones((X_train.shape[0], 1))\n",
    "X_train = np.concatenate((oneVector, X_train), axis=1)\n",
    "# xa = X_train[0].reshape(-1,X_train.shape[1])\n",
    "print (X_train)\n",
    "print(Y)\n",
    "plotData = []\n",
    "weights = np.random.rand(4, 1)\n",
    "misClassifications = 1\n",
    "minMisclassifications = 10000\n",
    "iteration = 0\n",
    "while (misClassifications != 0 and (iteration<10)):\n",
    "    iteration += 1\n",
    "    misClassifications = 0\n",
    "    for i in range(0, len(X_train)):\n",
    "        currentX = X_train[i].reshape(-1, X_train.shape[1])\n",
    "        currentY = Y[i]\n",
    "        wTx = np.dot(currentX, weights)[0][0]\n",
    "        if currentY == 1 and wTx < 0:\n",
    "            misClassifications += 1\n",
    "            weights = weights + learningRate * np.transpose(currentX)\n",
    "        elif currentY == -1 and wTx > 0:\n",
    "            misClassifications += 1\n",
    "            weights = weights - learningRate * np.transpose(currentX)\n",
    "    plotData.append(misClassifications)\n",
    "    if misClassifications<minMisclassifications:\n",
    "        minMisclassifications = misClassifications\n",
    "    # if iteration%1==0:\n",
    "        print(\"Iteration {}, Misclassifications {}\".format(iteration, misClassifications))\n",
    "print (\"Minimum Misclassifications : \",minMisclassifications)\n",
    "print (\"Best Case Accuracy of Pocket Learning Algorithm is: \",(((X_train.shape[0]-minMisclassifications)/X_train.shape[0])*100),\"%\")\n",
    "# print(\"Number of misclassifications: \", misClassifications)\n"
   ]
  },
  {
   "cell_type": "code",
   "execution_count": null,
   "id": "cedec0af",
   "metadata": {},
   "outputs": [],
   "source": []
  }
 ],
 "metadata": {
  "kernelspec": {
   "display_name": "Python 3",
   "language": "python",
   "name": "python3"
  },
  "language_info": {
   "codemirror_mode": {
    "name": "ipython",
    "version": 3
   },
   "file_extension": ".py",
   "mimetype": "text/x-python",
   "name": "python",
   "nbconvert_exporter": "python",
   "pygments_lexer": "ipython3",
   "version": "3.8.8"
  }
 },
 "nbformat": 4,
 "nbformat_minor": 5
}
