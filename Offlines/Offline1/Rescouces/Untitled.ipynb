{
 "cells": [
  {
   "cell_type": "code",
   "execution_count": 1,
   "id": "9de263b6",
   "metadata": {},
   "outputs": [
    {
     "name": "stdout",
     "output_type": "stream",
     "text": [
      "Name  New Batsman\n",
      "Run Scored :  6101  Ball Faced :  7380\n",
      "==================================\n",
      "Name  Liton\n",
      "Run Scored :  678  Ball Faced :  773\n",
      "=================\n",
      "87.71021992238033\n",
      "Name  Shakib\n",
      "Run Scored :  6101  Ball Faced :  7380\n",
      "82.66937669376694\n"
     ]
    }
   ],
   "source": [
    "class Batsman:\n",
    "    def __init__(self,*args):\n",
    "        \"\"\"self.run=run\n",
    "        self.ball=ball\n",
    "        self.name=name\n",
    "        if(self.name is None):\n",
    "            self.name=\"New Batsman\"\n",
    "        else:\n",
    "            self.name=name\n",
    "            \"\"\"\n",
    "        if len(args)==3:\n",
    "            self.name=args[0]\n",
    "            self.run=args[1]\n",
    "            self.ball=args[2]\n",
    "        elif len(args)==2:\n",
    "            self.name=\"New Batsman\"\n",
    "            self.run=args[0]\n",
    "            self.ball=args[1]\n",
    "    def setName(self,Name):\n",
    "        self.name=Name\n",
    "    def battingStrikeRate(self):\n",
    "        return (self.run/self.ball)*100\n",
    "    def printCareerStastistics(self):\n",
    "        print(\"Name \", self.name)\n",
    "        print(\"Run Scored : \",self.run,\" Ball Faced : \",self.ball)\n",
    "\n",
    "b1=Batsman(6101,7380)\n",
    "b1.printCareerStastistics()\n",
    "print(\"==================================\")\n",
    "b2=Batsman(\"Liton\",678,773)\n",
    "b2.printCareerStastistics()\n",
    "\n",
    "print(\"=================\")\n",
    "print(b2.battingStrikeRate())\n",
    "\n",
    "b1.setName(\"Shakib\")\n",
    "b1.printCareerStastistics()\n",
    "print(b1.battingStrikeRate())"
   ]
  },
  {
   "cell_type": "code",
   "execution_count": null,
   "id": "3b8e33ba",
   "metadata": {},
   "outputs": [],
   "source": []
  }
 ],
 "metadata": {
  "kernelspec": {
   "display_name": "Python 3",
   "language": "python",
   "name": "python3"
  },
  "language_info": {
   "codemirror_mode": {
    "name": "ipython",
    "version": 3
   },
   "file_extension": ".py",
   "mimetype": "text/x-python",
   "name": "python",
   "nbconvert_exporter": "python",
   "pygments_lexer": "ipython3",
   "version": "3.8.8"
  }
 },
 "nbformat": 4,
 "nbformat_minor": 5
}
